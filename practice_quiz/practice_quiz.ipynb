{
 "cells": [
  {
   "cell_type": "markdown",
   "id": "3b7e2555",
   "metadata": {},
   "source": [
    "# <span style=\"color:red\"> QTM 151 - Practice Quiz </span>"
   ]
  },
  {
   "cell_type": "markdown",
   "id": "8398a0dc",
   "metadata": {},
   "source": [
    "<font size = 5>\n",
    "\n",
    "**Submit as an HTML file** (see images below)\n",
    "\n",
    "<font size = 3>\n",
    "\n",
    "Step 1: Click the 3 dots in the toolbar for \"More Actions\"\n",
    "\n",
    "<img src=\"practice_quiz_figures/step1.png\" alt=\"drawing\" width = \"600\"/>\n",
    "\n",
    "***\n",
    "Step 2: Choose \"export\"\n",
    "\n",
    "<img src=\"practice_quiz_figures/step2.png\" alt=\"drawing\" width = \"600\"/>\n",
    "\n",
    "***\n",
    "Step 3: Select \"HTML\" from the dropdown window\n",
    "\n",
    "<img src=\"practice_quiz_figures/step3.png\" alt=\"drawing\" width = \"600\"/>\n",
    "\n",
    "***\n",
    "Step 4: Select \"Export\" in the pop-up window.\n",
    "\n",
    "<img src=\"practice_quiz_figures/step4.png\" alt=\"drawing\" width = \"300\"/>\n",
    "\n",
    "Upload the .html file as your submission\n"
   ]
  },
  {
   "cell_type": "markdown",
   "id": "576a49a7",
   "metadata": {},
   "source": [
    "<font size=\"5\"> \n",
    "\n",
    "Print your name below"
   ]
  },
  {
   "cell_type": "code",
   "execution_count": null,
   "id": "3f7f0165",
   "metadata": {},
   "outputs": [],
   "source": [
    "# Write your answer here\n",
    "\n",
    "print(Joshua Munoz)"
   ]
  },
  {
   "cell_type": "markdown",
   "id": "14c8128c",
   "metadata": {},
   "source": [
    "<font size = \"5\" >\n",
    "This quiz is open book \n",
    "\n",
    "- You can use the lecture notes\n",
    "- You will get partial credit for attempting the questions\n",
    "- To get full credit, the code should work as intended\n",
    "- You should <span style=\"color:red\"> NOT </span> communicate with other students\n",
    "\n",
    "Print the following message: <br>\n",
    "\n",
    "\"I will abide by Emory's code of conduct\""
   ]
  },
  {
   "cell_type": "markdown",
   "id": "15e6535a",
   "metadata": {},
   "source": []
  },
  {
   "cell_type": "code",
   "execution_count": null,
   "id": "c81393db",
   "metadata": {},
   "outputs": [],
   "source": [
    "# Write your answer here:\n",
    "print( )"
   ]
  },
  {
   "cell_type": "markdown",
   "id": "fe7c2164",
   "metadata": {},
   "source": [
    "<font size = \"5\">\n",
    "\n",
    "(a) Checking If a Word is Part of a List\n",
    "\n",
    "<font size = \"3\">\n",
    "\n",
    "- Define a variable `topping1` with the value \"mushrooms\"\n",
    "- Define a variable `topping2` with the value \"pineapple\"\n",
    "- Define a list of pizza toppings with the values \"cheese\", \"mushrooms\", \"pepperoni\", and \"onions\"\n",
    "- Write expressions to test whether `topping1` and `topping2` are contained in `pizza_toppings` <br>\n",
    "and print the outputs\n",
    "- To get full points you must do all of the above tasks\n",
    "\n",
    "Hint: Use the \"in\" command. The final output should be 2 True/False values."
   ]
  },
  {
   "cell_type": "code",
   "execution_count": 6,
   "id": "b7e4518f",
   "metadata": {},
   "outputs": [
    {
     "name": "stdout",
     "output_type": "stream",
     "text": [
      "Topping 1 is in pizza_toppings: True\n",
      "Topping 2 is in pizza toppings: False\n"
     ]
    }
   ],
   "source": [
    "# Write your answer here:\n",
    "\n",
    "topping1 = \"mushrooms\"\n",
    "topping2 = \"pineapple\"\n",
    "pizza_toppings = [\"cheese\", \"mushrooms\", \"pepperoni\", \"onions\"]\n",
    "\n",
    "print(\"Topping 1 is in pizza_toppings:\", (topping1 in pizza_toppings))\n",
    "print(\"Topping 2 is in pizza toppings:\", (topping2 in pizza_toppings))"
   ]
  },
  {
   "cell_type": "markdown",
   "id": "97462dd4",
   "metadata": {},
   "source": [
    "<font size = \"5\">\n",
    "\n",
    "(b) Threshold testing a sum\n",
    "<br>\n",
    "\n",
    "<font size = \"3\">\n",
    "\n",
    "- Create a numeric vector (**\"vector\" always means Numpy array**), $ c = \\begin{bmatrix} 1 \\\\ 2 \\\\ 3 \\end{bmatrix} $\n",
    "- Use the \"numpy.sum()\"' function to add up the individual elements.\n",
    "- If the sum of numbers is higher than $5$, write a message saying <br>\n",
    "\" The sum is greater than or equal to 5\"\n",
    "- Otherwise show a message \"It is strictly less than 5\""
   ]
  },
  {
   "cell_type": "code",
   "execution_count": 12,
   "id": "2c194583",
   "metadata": {},
   "outputs": [
    {
     "name": "stdout",
     "output_type": "stream",
     "text": [
      "The sum is greater than or equal to 5\n"
     ]
    }
   ],
   "source": [
    "# Write your answer here:\n",
    "import numpy as np\n",
    "\n",
    "num_vec = np.array([1, 2, 3])\n",
    "sum = np.sum(num_vec)\n",
    "if sum >= 5:\n",
    "    print(\"The sum is greater than or equal to 5\")\n",
    "else:\n",
    "    print(\"It is strictly less than 5\")"
   ]
  },
  {
   "cell_type": "markdown",
   "id": "092ea34b",
   "metadata": {},
   "source": [
    "### c) For-loops + Plotting\n",
    "\n",
    "   - Create an array of x-values with 100 evenly spaced points between $0$ and $2\\pi$ <br>using `np.linspace()`. **Hint**: type ``help(np.linspace)`` in a separate cell to see how it is used\n",
    "\n",
    "   - Create a vector named ```vec_y1``` where each element is computed from the formula <br> $ y_k = \\sin(x_k)$. (Here $x_k$ is the $k$-th element of the array you created above, and $y_k$ is the $k$-th element of vec_y1)\n",
    "\n",
    "   - Create a vector ```vec_y2``` where each element is computed from the formula <br> $ y_k = \\cos(x_k)$.\n",
    "\n",
    "   - Create a list ```list_vectors``` with elements ```vec_y1``` and ```vec_y2```. (So a list with two components, both being numpy arrays)\n",
    "\n",
    "   - Create a for-loop that goes through each element of ```list_vectors``` and plots each <br>list of $y$ values on the vertical axis against $x$ on the horizontal axis.\n",
    "\n",
    "Note: The final output should be a 2-dimensional plot with the values from vec_y1 and vec_y2 on the vertical axis, and the $x$ values on the horizontal axis. **Remember to label the axes and add a title to the plot**."
   ]
  },
  {
   "cell_type": "code",
   "execution_count": 13,
   "id": "ab420753",
   "metadata": {},
   "outputs": [
    {
     "data": {
      "text/plain": [
       "array([0.        , 0.06346652, 0.12693304, 0.19039955, 0.25386607,\n",
       "       0.31733259, 0.38079911, 0.44426563, 0.50773215, 0.57119866,\n",
       "       0.63466518, 0.6981317 , 0.76159822, 0.82506474, 0.88853126,\n",
       "       0.95199777, 1.01546429, 1.07893081, 1.14239733, 1.20586385,\n",
       "       1.26933037, 1.33279688, 1.3962634 , 1.45972992, 1.52319644,\n",
       "       1.58666296, 1.65012947, 1.71359599, 1.77706251, 1.84052903,\n",
       "       1.90399555, 1.96746207, 2.03092858, 2.0943951 , 2.15786162,\n",
       "       2.22132814, 2.28479466, 2.34826118, 2.41172769, 2.47519421,\n",
       "       2.53866073, 2.60212725, 2.66559377, 2.72906028, 2.7925268 ,\n",
       "       2.85599332, 2.91945984, 2.98292636, 3.04639288, 3.10985939,\n",
       "       3.17332591, 3.23679243, 3.30025895, 3.36372547, 3.42719199,\n",
       "       3.4906585 , 3.55412502, 3.61759154, 3.68105806, 3.74452458,\n",
       "       3.8079911 , 3.87145761, 3.93492413, 3.99839065, 4.06185717,\n",
       "       4.12532369, 4.1887902 , 4.25225672, 4.31572324, 4.37918976,\n",
       "       4.44265628, 4.5061228 , 4.56958931, 4.63305583, 4.69652235,\n",
       "       4.75998887, 4.82345539, 4.88692191, 4.95038842, 5.01385494,\n",
       "       5.07732146, 5.14078798, 5.2042545 , 5.26772102, 5.33118753,\n",
       "       5.39465405, 5.45812057, 5.52158709, 5.58505361, 5.64852012,\n",
       "       5.71198664, 5.77545316, 5.83891968, 5.9023862 , 5.96585272,\n",
       "       6.02931923, 6.09278575, 6.15625227, 6.21971879, 6.28318531])"
      ]
     },
     "execution_count": 13,
     "metadata": {},
     "output_type": "execute_result"
    }
   ],
   "source": [
    "# Write your answer here:\n",
    "\n",
    "np.linspace(0, 2*np.pi, num = 100)"
   ]
  },
  {
   "cell_type": "markdown",
   "id": "fd868066",
   "metadata": {},
   "source": [
    "<font size = \"5\">\n",
    "\n",
    "(d) Creating a scatter plot\n",
    "<br>\n",
    "\n",
    "<font size = \"3\">\n",
    "\n",
    "Using NumPy arrays, create a scatter plot of the function\n",
    "\n",
    "$q(x) = \\sin(\\pi x) + 1$\n",
    "\n",
    "at a set of points in the interval $0 \\leq x \\leq 2$"
   ]
  },
  {
   "cell_type": "code",
   "execution_count": null,
   "id": "abe06645",
   "metadata": {},
   "outputs": [],
   "source": [
    "# Write your answer here:\n",
    "\n"
   ]
  },
  {
   "cell_type": "markdown",
   "id": "4863de6a",
   "metadata": {},
   "source": [
    "<font size = \"5\">\n",
    "\n",
    "(e) Open the dataset \"united_states_co2_emissions.csv\" in the \"practice_quiz_data\" folder using pandas\n",
    "\n",
    "<font size = \"3\">\n",
    "\n",
    "- Assign it to a variable named \"us_emissions\"\n",
    "- Note: This contains CO2 emissions (in kilotons) by the United States from 1960-2019. <br/> \n",
    "It is compiled from various sources, including the United Nations Framework Convention <br/>\n",
    "on Climate Change (UNFCCC) and the International Energy Agency (IEA)."
   ]
  },
  {
   "cell_type": "code",
   "execution_count": null,
   "id": "62da0d1a",
   "metadata": {},
   "outputs": [],
   "source": [
    "# Write your answer here:\n",
    "\n"
   ]
  },
  {
   "cell_type": "markdown",
   "id": "84acb468",
   "metadata": {},
   "source": [
    "<font size = \"5\">\n",
    "\n",
    "(f) View the dataset and create a list of variable names\n",
    "\n",
    "<font size = \"3\">\n",
    "\n",
    "- The us_emissions dataset has two named column headings. \n",
    "\n",
    "- Create a list containing two strings, one for each of the column headings.\n",
    "\n",
    "- The strings must match the headings **exactly** (the \"#\" symbols shown in DataWrangler are not part of the name). Otherwise you will run into a problem in part d)\n",
    "\n",
    "- Assign this list to a variable called \"columns\"\n",
    "\n",
    "- You do not have to \"extract\" the names from the dataset through a Python command. You can simply type them manually."
   ]
  },
  {
   "cell_type": "code",
   "execution_count": null,
   "id": "09271f61",
   "metadata": {},
   "outputs": [],
   "source": [
    "# Write your answer here:\n"
   ]
  }
 ],
 "metadata": {
  "kernelspec": {
   "display_name": "base",
   "language": "python",
   "name": "python3"
  },
  "language_info": {
   "codemirror_mode": {
    "name": "ipython",
    "version": 3
   },
   "file_extension": ".py",
   "mimetype": "text/x-python",
   "name": "python",
   "nbconvert_exporter": "python",
   "pygments_lexer": "ipython3",
   "version": "3.13.5"
  }
 },
 "nbformat": 4,
 "nbformat_minor": 5
}
